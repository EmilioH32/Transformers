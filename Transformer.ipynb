{
 "cells": [
  {
   "cell_type": "code",
   "execution_count": null,
   "id": "037135e7",
   "metadata": {},
   "outputs": [],
   "source": [
    "import numpy as np"
   ]
  },
  {
   "cell_type": "code",
   "execution_count": null,
   "id": "0c831a4a",
   "metadata": {},
   "outputs": [],
   "source": [
    "class Tokenization:\n",
    "    def __init__(self):\n",
    "        pass\n",
    "\n",
    "    def __call__(self, text):\n",
    "        pass\n",
    "\n",
    "    def BPE(input):\n",
    "        encoded_input = input.encode(\"utf-8\")\n",
    "        encoded_input = list(map(int, encoded_input))\n",
    "\n",
    "        count = {}\n",
    "\n",
    "        for pair in zip(encoded_input, encoded_input[1:]):\n",
    "            count[pair] = count.get(pair, 0) + 1\n",
    "        return count"
   ]
  }
 ],
 "metadata": {
  "kernelspec": {
   "display_name": "Python 3",
   "language": "python",
   "name": "python3"
  },
  "language_info": {
   "name": "python",
   "version": "3.13.1"
  }
 },
 "nbformat": 4,
 "nbformat_minor": 5
}
