{
 "cells": [
  {
   "cell_type": "code",
   "execution_count": null,
   "id": "037135e7",
   "metadata": {},
   "outputs": [],
   "source": [
    "import torch\n",
    "import jax.numpy as jnp\n",
    "from jax import grad\n",
    "from jax import jit\n",
    "import trio"
   ]
  },
  {
   "cell_type": "markdown",
   "id": "1d4ec397",
   "metadata": {},
   "source": [
    "# Byte Pair Encoding Tokenization\n",
    "\n",
    "Based off of Andrej Kapathy YouTube Video \"Let's Build GPT Tokenizer\"\n",
    "\n",
    "``` Place holder for BPE Description```"
   ]
  },
  {
   "cell_type": "code",
   "execution_count": 3,
   "id": "0c831a4a",
   "metadata": {},
   "outputs": [],
   "source": [
    "def find_pairs(input):\n",
    "    encoded_input = input.encode(\"utf-8\")\n",
    "    encoded_input = list(map(int, encoded_input))\n",
    "\n",
    "    counts = {}\n",
    "\n",
    "    for pair in zip(encoded_input, encoded_input[1:]):\n",
    "        counts[pair] = counts.get(pair, 0) + 1\n",
    "    return counts"
   ]
  },
  {
   "cell_type": "code",
   "execution_count": null,
   "id": "c183db76",
   "metadata": {},
   "outputs": [
    {
     "name": "stdout",
     "output_type": "stream",
     "text": [
      "[5, 6, 99, 9, 1]\n"
     ]
    }
   ],
   "source": [
    "pairs = find_pairs(\"This is a test string. It has no meaning and serves for testing purposes only. I'll also add the common sentence with every letter next. The quick brown fox jumps over the lazy dog.\")\n",
    "\n",
    "most_freq_pair = max(pairs, key = pairs.get)\n",
    "\n",
    "def merge_most_frequent(id_list, pair, new_token):\n",
    "    tokens = []\n",
    "    i = 0\n",
    "    while i < len(id_list):\n",
    "        if i < len(id_list) - 1 and id_list[i] == pair[0] and id_list[i+1] == pair[1]:\n",
    "            tokens.append(new_token)\n",
    "            i += 2\n",
    "        else:\n",
    "            tokens.append(id_list[i])\n",
    "            i += 1\n",
    "    return tokens\n",
    "\n",
    "# test\n",
    "print(merge_most_frequent([5, 6, 6, 7, 9, 1], (6, 7), 99))"
   ]
  },
  {
   "cell_type": "code",
   "execution_count": null,
   "id": "c430e086",
   "metadata": {},
   "outputs": [],
   "source": [
    "vocab_size = 276"
   ]
  }
 ],
 "metadata": {
  "kernelspec": {
   "display_name": "Python 3",
   "language": "python",
   "name": "python3"
  },
  "language_info": {
   "codemirror_mode": {
    "name": "ipython",
    "version": 3
   },
   "file_extension": ".py",
   "mimetype": "text/x-python",
   "name": "python",
   "nbconvert_exporter": "python",
   "pygments_lexer": "ipython3",
   "version": "3.13.1"
  }
 },
 "nbformat": 4,
 "nbformat_minor": 5
}
